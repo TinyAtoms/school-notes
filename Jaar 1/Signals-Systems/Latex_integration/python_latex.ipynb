{
 "cells": [
  {
   "cell_type": "markdown",
   "metadata": {},
   "source": [
    "this is a list of things to try out\n",
    "```\n",
    "- 2 \\theta\\left(0\\right) + 2 + \\frac{1}{s + 3}\n",
    "e^{- s} - \\frac{2}{s + 1}\n",
    "\\left(22 t + e^{2 t} - 14 e^{t} + 13\\right) e^{- 2 t}\n",
    "confirmed working:\n",
    "\\(x^k\\)\\(x^k \\\\bmod p(x)\\)\n",
    "```"
   ]
  },
  {
   "cell_type": "code",
   "execution_count": 92,
   "metadata": {},
   "outputs": [],
   "source": [
    "from IPython.core.display import display, HTML\n",
    "\n",
    "def latex(expression):\n",
    "    start = r\"<div>\\(\"\n",
    "    end = r\"\\)</div>\"\n",
    "    formatted = start + expression + end\n",
    "    return HTML(formatted)"
   ]
  },
  {
   "cell_type": "code",
   "execution_count": 111,
   "metadata": {},
   "outputs": [
    {
     "data": {
      "text/html": [
       "\\( - 2\\theta \\left(0\\right) + 2 + \\frac{1}{s+3} \\)"
      ],
      "text/plain": [
       "<IPython.core.display.HTML object>"
      ]
     },
     "execution_count": 111,
     "metadata": {},
     "output_type": "execute_result"
    }
   ],
   "source": [
    "\n",
    "tests = [ r\"- 2 \\theta\\left(0\\right) + 2 + \\frac{1}{s + 3}\",\n",
    "              r\"e^{- s} - \\frac{2}{s + 1}\",\n",
    "              r\"\\left(22 t + e^{2 t} - 14 e^{t} + 13\\right) e^{- 2 t}\",\n",
    "              r\"x^k\",\n",
    "              r\"- 2\\theta \\left(0\\right) + 2 + \\frac{1}{s+3}\"\n",
    "              ]\n",
    "HTML(rawstrings[5])\n"
   ]
  },
  {
   "cell_type": "code",
   "execution_count": 112,
   "metadata": {},
   "outputs": [
    {
     "data": {
      "text/html": [
       "<div>\\(- 2\\theta \\left(0\\right) + 2 + \\frac{1}{s+3}\\)</div>"
      ],
      "text/plain": [
       "<IPython.core.display.HTML object>"
      ]
     },
     "execution_count": 112,
     "metadata": {},
     "output_type": "execute_result"
    }
   ],
   "source": [
    "latex(tests[4])"
   ]
  },
  {
   "cell_type": "code",
   "execution_count": 55,
   "metadata": {},
   "outputs": [
    {
     "data": {
      "text/html": [
       "\\( - 2 theta \\)"
      ],
      "text/plain": [
       "<IPython.core.display.HTML object>"
      ]
     },
     "execution_count": 55,
     "metadata": {},
     "output_type": "execute_result"
    }
   ],
   "source": [
    "HTML(rawstrings[5])"
   ]
  },
  {
   "cell_type": "code",
   "execution_count": 1,
   "metadata": {},
   "outputs": [
    {
     "data": {
      "text/plain": [
       "'\\\\(- 2\\theta \\\\left(0\\right) + 2 + \\x0crac{1}{s+3}\\\\)'"
      ]
     },
     "execution_count": 1,
     "metadata": {},
     "output_type": "execute_result"
    }
   ],
   "source": []
  },
  {
   "cell_type": "code",
   "execution_count": null,
   "metadata": {},
   "outputs": [],
   "source": []
  }
 ],
 "metadata": {
  "kernelspec": {
   "display_name": "Python 3",
   "language": "python",
   "name": "python3"
  },
  "language_info": {
   "codemirror_mode": {
    "name": "ipython",
    "version": 3
   },
   "file_extension": ".py",
   "mimetype": "text/x-python",
   "name": "python",
   "nbconvert_exporter": "python",
   "pygments_lexer": "ipython3",
   "version": "3.7.3"
  }
 },
 "nbformat": 4,
 "nbformat_minor": 2
}
