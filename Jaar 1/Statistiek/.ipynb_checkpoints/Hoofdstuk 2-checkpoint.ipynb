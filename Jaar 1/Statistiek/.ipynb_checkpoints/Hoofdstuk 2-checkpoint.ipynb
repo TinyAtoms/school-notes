{
 "cells": [
  {
   "cell_type": "code",
   "execution_count": 1,
   "metadata": {},
   "outputs": [],
   "source": [
    "import pandas as pd\n",
    "from math import *\n",
    "from pandas import Series as s\n",
    "from pandas import DataFrame as df\n",
    "import matplotlib.pyplot as plt"
   ]
  },
  {
   "cell_type": "code",
   "execution_count": 2,
   "metadata": {},
   "outputs": [],
   "source": [
    "def plot_histogram(data):\n",
    "    ax = data.value_counts(sort=False).plot.bar(rot=0, color=\"b\", figsize=(8,6))\n",
    "    ax.set_xticklabels([c for c in data.cat.categories])\n",
    "    plt.show()\n",
    "\n",
    "def bin_data(data, breedte):\n",
    "    bins = [i * breedte for i in range(data.min()//breedte, data.max()//breedte + 2)]\n",
    "    binned = pd.cut(data, bins=bins, right=False)\n",
    "    return binned"
   ]
  },
  {
   "cell_type": "markdown",
   "metadata": {},
   "source": [
    "# Hoofdstuk 2, kansrekenen, permutaties en combinaties\n",
    "\n",
    "## Kansrekenen\n",
    "\n",
    "1. Een kans P licht altijd tussen 0 en 1.\n",
    "2. Vereniging, (OR):  $P(A \\cup B) = P(A) + P(B) - P(A\\cap B)$ , meaning kans A of B = kans A + kans B - kans(A+B)\n",
    "3. Doosnede, (AND) : $P(A\\cap B) = P(A) \\times P(B)$, meaning kans dat A en B gebeurt = kans A * kans B  \n",
    "  \n",
    "    \n",
    "4. Voorwaardelijke kans: $P(A/B) = \\frac{P(A\\cap B)}{P(B)}$, meaning kans(A of B) / kans(B)\n",
    "5. er is een verschil tussen $ P(A\\cap B) en P(A/B)$. 1e is de conditionele kans dat a gebeurt __als__ b gebeurt\n",
    "6. Je kan kontroleren of A en B onafhankelijk zijn door te checken if $P(A\\cap B == P(A) \\cdot P(B) $\n",
    "7. "
   ]
  },
  {
   "cell_type": "markdown",
   "metadata": {},
   "source": [
    "## Permutaties en combinaties\n",
    "\n",
    "1.permutaties zijn de verzameling van __geordende__ trekkingen. De volgorde is van belang.  Het heeft de volgende notatie: $$P(n, r) = n \\Bbb Pr = \\frac {n!}{(n-r)!}$$\n",
    "waar n = mogelijkheden, r = posities of trekkingen  \n",
    "In gevel sommige van de mogelijkheden onderling gelijk zijn, vb, permutaties van \"AABBCDE\", dan geldt:\n",
    "$$P(n,r) = \\frac{n!}{2!2!1!1!1!} = \\frac{7!}{2!(A's)2!(B's)1!(c)1!(D)1!(E)} =\\frac{7!}{2!2! (1! = 1)} $$  \n",
    "  \n",
    "  \n",
    "2.Combinaties zijn de verzameling van trekkingen waar de ordering niet uitmaakt. Er is met en zonder herhaling/teruglegging.\n",
    "notatie en formule zonder herhaling:  \n",
    "$${n \\choose r}  = C(n, r) = n \\Bbb C r = \\frac {P(n, r)}{r!} = \\frac{n!}{(n-r)! r!}$$\n",
    "3. Combinaties met teruglegging, hier mag een eerder getrokken mogelijkheid opnieuw getrokken worden(denk bruteforcing passwords) formule en notatie: $$C(n+r-1, r) = {n + r - 1 \\choose r} = (n + r - 1) \\Bbb C r$$\n"
   ]
  },
  {
   "cell_type": "markdown",
   "metadata": {},
   "source": [
    "###  11. Populatie I bevat 2 soorten elementen A en B , soort A komt twee maal zo vaak voor. Aselect wordt een element getrokken.   Gevraagd : P(soort A). 11b: Populatie II  bevat 4 soorten elementen A, B, C en D welke voorkomen in de  verhouding A:B:C:D  = 1:2:3:4. Aselect wordt een element getrokken. Gevraagd P(soort C).\n"
   ]
  },
  {
   "cell_type": "markdown",
   "metadata": {},
   "source": [
    "### Oplossing\n",
    "a. P(A) = 2/3, P(B) = 1/3, $P(A\\cup B)$ = 1  \n",
    "oftewel: x+y = 1, x = 2y waar x = P(A) en y = P(B)  \n",
    "b. 3/(1+2+3+4) = 3/10"
   ]
  },
  {
   "cell_type": "code",
   "execution_count": null,
   "metadata": {},
   "outputs": [],
   "source": []
  },
  {
   "cell_type": "markdown",
   "metadata": {},
   "source": [
    "### 12.Een vaas bevat 4 witte en 8 zwarte ballen. Aselect en zonder teruglegging worden er 5 ballen uit de vaas genomen. Gelet op het aantal witte ballen, wat zijn de mogelijke uitkomsten en hoe groot zijn de kansen erop?\n",
    "P(0)\n",
    "P(1)\n",
    "P(2)\n",
    "P(3)\n",
    "P(4) zijn de mogelijkheden, want er zijn maar 4 witte ballen.   \n",
    "\n",
    "## The above is  correct but very tedious. \n",
    "Here's the correct and faster way to do it.\n",
    "n = posities\n",
    "$P(0) = \\frac {8 Z, 5 n} {12 W+Z, 5 n} = \\frac{ \\Bbb C(8,5)}{\\Bbb C(12,5)} = \\frac 7 {99}$   \n",
    "  \n",
    "  \n",
    "$P(1) = \\frac {(4 W, 1 n) \\cdot (8Z, 4 n)} {12 W+Z, 5 n} = \\frac {C(4,1) \\cdot C(8,4)} {C(12,5)} = \\frac  {35} {99}$  \n",
    "  \n",
    "  \n",
    "$P(2) = \\frac {C(4,2) \\cdot C(8,3)} {C(12,5)} =  \\frac {42}{99} $  \n",
    "  \n",
    "$P(3) = \\frac {C(4,3) \\cdot C(8,2)} {C(12,5)} = \\frac {14} {99}$\n",
    "  \n",
    "$P(4) = \\frac {C(4,4) \\cdot C(8,1)} {C(12,5)} = \\frac {1} {99} $  \n",
    "$P(1 \\cup 2 \\cup 3 \\cup 4) = \\frac {7+35+42+14+1} {99} = 1$"
   ]
  },
  {
   "cell_type": "code",
   "execution_count": null,
   "metadata": {},
   "outputs": [],
   "source": []
  },
  {
   "cell_type": "markdown",
   "metadata": {},
   "source": [
    "### Som 13\n",
    "In een bak zitten 10 genummerde ballen, één met nummer 1, twee met nummer 2, drie met nummer 3 en vier met nummer 4. Men trekt twee maal aselect met teruglegging.   \n",
    "1.P(som der nummers is groter of gelijk aan 7)  \n",
    "2.P(twee gelijkgenummerde ballen).\n",
    "\n",
    "\n",
    "### Oplossing\n",
    "1. Er zijn de volgende combinaties mogelijk: (3,4), (4,3) , (44)    \n",
    "$P(3, 4) = P(4,3) = \\frac 3 {10} \\cdot \\frac 4 {10} = \\frac {12} {100}$  \n",
    "$P(4,4) = \\frac 4 {10} \\cdot \\frac 4 {10} = \\frac {16} {100} $\n",
    "$P(\\Sigma \\geq 7) = P(3,4) + P(4,3) + P(4,4) = 2 \\cdot \\frac{12}{100} + \\frac {16}{100} = \\frac {40}{100}$\n",
    "2. gelijknummerige ballen = (1,1), (2,2), (3,3), (4,4)\n",
    "$P(gelijknummerige) = \\frac 1 {100} + \\frac {2 \\cdot 2} {100} + \\frac {3 \\cdot 3} {100} + \\frac {4 \\cdot 4} {100} = \\frac {30} {100} $"
   ]
  },
  {
   "cell_type": "code",
   "execution_count": null,
   "metadata": {},
   "outputs": [],
   "source": []
  },
  {
   "cell_type": "markdown",
   "metadata": {},
   "source": [
    "### Som 14\n",
    "We werpen met 3 muntstukken.   \n",
    "1.Gebeurtenis A: er wordt 3 keer kruis of 3 keer munt gegooid.  \n",
    "2.Gebeurtenis B : er wordt minstens 2 keer munt gegooid.  \n",
    "3.Gebeurtenis C : er wordt hoogstens 2 keer munt gegooid.  \n",
    "Onderzoek de onafhankelijkheid van de paren (A, B), (A, C), (B, C).\n",
    "\n",
    "### Oplossing\n",
    "```\n",
    "1.MMM\n",
    "2.MMK\n",
    "3.MKM\n",
    "4.MKK\n",
    "5.KMM\n",
    "6.KMK\n",
    "7.KKM\n",
    "8.KKK\n",
    "```\n",
    "1. $P(3K \\cap 3M) = 2/8$\n",
    "2. $P(M\\geq2) = 1/2  $\n",
    "3. $P(M \\leq 2) = 1- P(3M) = 1 - 1/8 = 7/8 $  \n",
    "  \n",
    "a. $P(A \\cup B) \\stackrel{?}{=} P(A) \\cdot P(B)$  \n",
    "$\\frac 1 8 (3M) = \\frac 2 8 \\cdot \\frac 1 2$, true, dus onafhankelijk    \n",
    "\n",
    "b. $P(A \\cup C) \\stackrel{?}{=} P(A) \\cdot P(C)$   \n",
    "$\\frac 1 8 (3K) = \\frac 2 8 \\cdot \\frac 7 8$ false, dus afhankelijk\n",
    "  \n",
    "c. $P(B \\cup C) \\stackrel{?}{=} P(B) \\cdot P(C)$   \n",
    "$P(\\Sigma M = 2) = P(B) \\cdot P(C)$  \n",
    "$\\frac 3 8 = \\frac 1 2 \\cdot \\frac 7 8$, false dus afhankelijk\n"
   ]
  },
  {
   "cell_type": "code",
   "execution_count": null,
   "metadata": {},
   "outputs": [],
   "source": []
  },
  {
   "cell_type": "markdown",
   "metadata": {},
   "source": [
    "### Som 15\n",
    "Er wordt één maal met een zuivere dobbelsteen geworpen.   \n",
    "Gebeurtenis A : de uitkomst is even  \n",
    "Gebeurtenis B: de worp is hoogstens 4  \n",
    "Gebeurtenis C : de uitkomst is minder dan 4  \n",
    "Onderzoek de onafhankelijkheid van paar (A, B) en van paar (A, C).  \n",
    "\n",
    "\n",
    "### Oplossing.\n",
    "P(A) = 2,4,6 = 3/6  \n",
    "P(B) = 4/6  \n",
    "P(C) = 3/6   \n",
    "\n",
    "a. P(A en B) =? P(A) * P(B)  \n",
    "2/6 (2,6) = 12/36. True, onafhankelijk   \n",
    "\n",
    "b. P(A en C) =? P(A) * P(C)  \n",
    "1/6 (2) = 3/6 * 3/6, false, afhankelijk"
   ]
  },
  {
   "cell_type": "code",
   "execution_count": null,
   "metadata": {},
   "outputs": [],
   "source": []
  },
  {
   "cell_type": "markdown",
   "metadata": {},
   "source": [
    "$  P(A/B) = \\frac{P(A\\cap B)}{P(B)}$.de conditionele kans dat a gebeurt __als__ b gebeurt\n",
    "###  som 16. \n",
    "Twee dobbelstenen worden gegooid. \n",
    "a. Wat is de kans dat de som der ogen groter dan of gelijk is aan 10 als gegeven is dat de eerste worp een 5 is?  \n",
    "b. Bepaal P(som >= 10 | tenminste één der worpen is 5).\n",
    "\n",
    "### Oplossing\n",
    "a. {(5,5), (5,6)} = 2/36  \n",
    "P(A) = P(som >= 10) = {64, 65, 66, 56, 55, 46} = 6/36 = 1/6   \n",
    "P(B) = P(aantal 5 >= 1)  (15, 25, 35, 45, 51, 52, 53, 54, 55, 56, 65) = 11/36  \n",
    "P(A / B) = 3/36\n"
   ]
  },
  {
   "cell_type": "code",
   "execution_count": null,
   "metadata": {},
   "outputs": [],
   "source": []
  },
  {
   "cell_type": "markdown",
   "metadata": {},
   "source": [
    "## Som 17\n",
    "Er wordt drie keer met een muntstuk gegooid.  Gevraagd : P(3 maal kruis | eerste worp is kruis).\n",
    "\n",
    "### Oplossing:\n",
    "P(3K) = P(A) = 1/8  \n",
    "P(1=K) = P(B) = 0.5   \n",
    "$P(A \\cap B) = 1/8 = 0.125$\n",
    "$$P(A/B) = \\frac {P(A \\cap B)} {P(B)} = \\frac {0.125} {0.5} = 0.25 $$"
   ]
  },
  {
   "cell_type": "code",
   "execution_count": null,
   "metadata": {},
   "outputs": [],
   "source": []
  },
  {
   "cell_type": "markdown",
   "metadata": {},
   "source": [
    "### Som 18\n",
    "In een klas met 30 leerlingen, 12 jongens en 18 meisjes, is de helft der jongens langer dan 1,75 m en 1/3 deel der meisjes is langer dan 1,75 m. Aselect wordt één leerling gekozen en deze blijkt langer dan 1,75 m. Wat is de kans dat dit een meisje is ?\n",
    "\n",
    "$P(A_1) = P(jongen) = 6/15 = 2/5$  \n",
    "$P(A_2) = P(meisje) = 9/15 = 3/5$  \n",
    "$P(B_1) = P(l\\gt 1.75m) = 3/15 + 3/15 = 6/15 = 2/5$   \n",
    "$P(B_2) =P(l \\lt 1.75m) = 3/15 + 6/15 = 9/15 = 3/5 $  \n",
    "$$P(meisje\\ als\\ L> 1.75) = P(A_2 / B_1) = \\frac {1/5} {2/5} = 0.5 $$\n"
   ]
  },
  {
   "cell_type": "code",
   "execution_count": null,
   "metadata": {},
   "outputs": [],
   "source": []
  },
  {
   "cell_type": "markdown",
   "metadata": {},
   "source": [
    "### Som 19\n",
    "We kiezen aselect 2 natuurlijke getallen uit 1 t/m 9.  \n",
    "Gevraagd : P( beide getallen zijn oneven | de som is even) voor de gevallen met en zonder teruglegging.\n",
    "\n",
    "### Oplossing\n",
    "\n",
    "P(de som is even): De som is altijd even als beide getallen oneven of even zijn. = 1/20 + 1/12 = 2/15  \n",
    "totale combos = P(9, 2) = 72  \n",
    "combos met odd getallen = P(5,2) = 20  \n",
    "combos met even getallen = P(4,2) = 12  \n",
    "som is altijd even als beide getallen even of off zijn= totale combos = 32.  \n",
    "$$\\frac {som\\ is\\ even \\cap getallen\\ zijn\\ oneven}{ getallen\\ zijn\\ oneven} = \\frac {20} {32} = \\frac {5}{8}\n",
    "$$"
   ]
  },
  {
   "cell_type": "code",
   "execution_count": null,
   "metadata": {},
   "outputs": [],
   "source": []
  },
  {
   "cell_type": "markdown",
   "metadata": {},
   "source": [
    "### Som 20\n",
    "Een vaas bevat 4 witte en 8 zwarte ballen. Blindelings trekt men 1 bal, noteert de kleur en plaatst men de bal terug   \n",
    "in de vaas, tezamen met een nieuwe bal van dezelfde kleur. Hierna herhaalt men de procedure nog twee maal. Bereken de  \n",
    "kans dat men precies 2 van de 3 keren een witte kleur genoteerd heeft.\n",
    "\n",
    "\n",
    "### Oplossing\n",
    "Er zijn 3 mogelijkheden waar er W=2 gekozen wordt: 3!/2! = 3  Bereken kans van 1 van ze en vermenigvuldig maal 3\n",
    "$3 * P(WWZ) = 3 \\cdot \\frac 4 {12} \\cdot \\frac 5 {13} \\cdot \\frac 8 {14} = \\frac {20} {91}  $"
   ]
  },
  {
   "cell_type": "code",
   "execution_count": null,
   "metadata": {},
   "outputs": [],
   "source": []
  },
  {
   "cell_type": "markdown",
   "metadata": {},
   "source": [
    "## Som 24\n",
    "In een fabriek wordt de kwaliteit gecontroleerd van uitgaande produkten. De employee die de controle verricht,  \n",
    "blijkt 1 % van de goede produkten af te keuren en verder keurt hij 5% van de slechte produkten goed. De totale  \n",
    "produktie bestaat voor 90% uit goede produkten.  \n",
    "a. Bereken de kans dat een willekeurig produkt goed is en goedgekeurd wordt.  \n",
    "b. Hoe groot is de kans dat de controleur voor een willekeurig produkt een verkeerde beslissing neemt ?  \n",
    "c. Hoe groot is het percentage goedgekeurde produkten dat de fabriek verlaat ?\n",
    "\n",
    "\n",
    "### Oplossing\n",
    "P(prod goed _AND_ afgekeurd) = .9 * .01 = .009\n",
    "P(prod goed _AND_ goedgekeurd) = .9 * .99 = .891\n",
    "P(prod slecht _AND_ goedgekeurd) = .1 * .05 = 0.005\n",
    "P(Prod slecht _AND_ afgekeurd) = .1 * 0.95 = 0.095\n",
    "a. 0.891  \n",
    "b. P(prod goed __AND__ afgekeurd) + P(prod slecht __AND__ goedgekeurd) = 0.009 + 0.005 = 0.014  \n",
    "c. P(prod goed __AND__ goedgekeurd) + P(prod slecht __AND__ goedgekeurd) = .891 + .005 = .896"
   ]
  },
  {
   "cell_type": "code",
   "execution_count": null,
   "metadata": {},
   "outputs": [],
   "source": []
  },
  {
   "cell_type": "markdown",
   "metadata": {},
   "source": [
    "## Som 25\n",
    "Bepaal de kans om met 3 munten :  \n",
    "a. minstens één keer kruis te werpen.  \n",
    "b. hoogstens twee keer munt te werpen.\n",
    "\n",
    "\n",
    "### Oplossing\n",
    "```\n",
    "MMM\n",
    "MMK\n",
    "MKM\n",
    "MKK\n",
    "KMM\n",
    "KMK\n",
    "KKM\n",
    "KKK\n",
    "```\n",
    "\n",
    "a. P(minstens 1 kruis) = 1 - P(3M) = 7/8  \n",
    "b. P(Max 2 K) = 1 - P(3K) = 7/8\n",
    "\n"
   ]
  },
  {
   "cell_type": "code",
   "execution_count": null,
   "metadata": {},
   "outputs": [],
   "source": []
  },
  {
   "cell_type": "markdown",
   "metadata": {},
   "source": [
    "## Som 26 \n",
    "Uit een klas met 12 jongens en 13 meisjes worden aselect 2 leerlingen gekozen. Gevraagd :   \n",
    "P(2 jongens), P(2 meisjes), P(minstens één meisje).\n",
    "\n",
    "### Oplossing\n",
    "\n",
    "1. P(2J) = 12/25 * 11/24 = 11/50 \n",
    "2. P(2M) = 13/25 * 12/24 = 13/50\n",
    "3. P(M>=1) = P(JM) + P(MJ) + P(MM) = 13/50 + 13/50 + 13/50 = 39/50 of 2 - P(JJ) = 1 - 11/50 = 39/50"
   ]
  },
  {
   "cell_type": "code",
   "execution_count": null,
   "metadata": {},
   "outputs": [],
   "source": []
  }
 ],
 "metadata": {
  "kernelspec": {
   "display_name": "Python 3",
   "language": "python",
   "name": "python3"
  },
  "language_info": {
   "codemirror_mode": {
    "name": "ipython",
    "version": 3
   },
   "file_extension": ".py",
   "mimetype": "text/x-python",
   "name": "python",
   "nbconvert_exporter": "python",
   "pygments_lexer": "ipython3",
   "version": "3.7.3"
  }
 },
 "nbformat": 4,
 "nbformat_minor": 2
}
