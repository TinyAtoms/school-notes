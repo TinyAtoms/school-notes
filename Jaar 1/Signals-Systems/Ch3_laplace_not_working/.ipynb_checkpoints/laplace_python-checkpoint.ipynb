{
 "cells": [
  {
   "cell_type": "code",
   "execution_count": 57,
   "metadata": {},
   "outputs": [],
   "source": [
    "from sns import * \n",
    "import sympy as sym\n",
    "from sympy import DiracDelta as dirac\n",
    "from sympy import Heaviside as stepfunction\n",
    "from sympy import laplace_transform as laplace\n",
    "from sympy import inverse_laplace_transform as ilaplace"
   ]
  },
  {
   "cell_type": "markdown",
   "metadata": {},
   "source": [
    "# My custom functions can't be used here, they were written/modified with vectors/arrays in mind, not symbolic computing. Use sympy functs instead of numpy functs.\n",
    "## stepfunction documentation : \n",
    "https://docs.sympy.org/latest/modules/functions/special.html#heaviside\n",
    "## dirac function documentation:\n",
    "https://docs.sympy.org/latest/modules/functions/special.html#diracdelta\n",
    "## laplace documentation:\n",
    "https://docs.sympy.org/latest/modules/integrals/integrals.html#sympy.integrals.transforms.laplace_transform\n",
    "![](e1.png)\n",
    "\n",
    "Good to know tips:\n",
    "1. sympy.oo is infinity\n",
    "2. dirac function is slightly different from matlab's. undefined instead of infinity at t=0"
   ]
  },
  {
   "cell_type": "code",
   "execution_count": 58,
   "metadata": {},
   "outputs": [
    {
     "data": {
      "text/latex": [
       "$\\displaystyle 2 \\delta\\left(x\\right) + e^{- 3 t}$"
      ],
      "text/plain": [
       "2*DiracDelta(x) + exp(-3*t)"
      ]
     },
     "execution_count": 58,
     "metadata": {},
     "output_type": "execute_result"
    }
   ],
   "source": [
    "x, t, s = sym.symbols(\"x, t, s\")\n",
    "x = 2 * dirac(x) + sym.exp(-3 * t)\n",
    "x"
   ]
  },
  {
   "cell_type": "code",
   "execution_count": 59,
   "metadata": {},
   "outputs": [
    {
     "data": {
      "text/latex": [
       "$\\displaystyle 2 \\mathcal{L}_{t}\\left[1\\right]\\left(s\\right) \\delta\\left(x\\right) + \\frac{1}{s + 3}$"
      ],
      "text/plain": [
       "2*LaplaceTransform(1, t, s)*DiracDelta(x) + 1/(s + 3)"
      ]
     },
     "execution_count": 59,
     "metadata": {},
     "output_type": "execute_result"
    }
   ],
   "source": [
    "X = laplace(x, t, s)\n",
    "X[0]"
   ]
  },
  {
   "cell_type": "markdown",
   "metadata": {},
   "source": [
    "# Correct answer from book:\n",
    "![](a1.png)\n",
    "## That isn't the same. Ask Mr Van Dijk about this\n",
    "![](e2.png)"
   ]
  },
  {
   "cell_type": "markdown",
   "metadata": {},
   "source": []
  },
  {
   "cell_type": "code",
   "execution_count": 60,
   "metadata": {},
   "outputs": [
    {
     "data": {
      "text/latex": [
       "$\\displaystyle \\theta\\left(t - 1\\right) - 2 e^{- t}$"
      ],
      "text/plain": [
       "Heaviside(t - 1) - 2*exp(-t)"
      ]
     },
     "execution_count": 60,
     "metadata": {},
     "output_type": "execute_result"
    }
   ],
   "source": [
    "x, t, s = sym.symbols(\"x, t, s\")\n",
    "x = stepfunction(t - 1) - 2 * sym.exp(-1 * t)\n",
    "x"
   ]
  },
  {
   "cell_type": "code",
   "execution_count": 61,
   "metadata": {},
   "outputs": [
    {
     "data": {
      "text/latex": [
       "$\\displaystyle \\frac{\\left(- 2 s e^{s} + s + 1\\right) e^{- s}}{s \\left(s + 1\\right)}$"
      ],
      "text/plain": [
       "(-2*s*exp(s) + s + 1)*exp(-s)/(s*(s + 1))"
      ]
     },
     "execution_count": 61,
     "metadata": {},
     "output_type": "execute_result"
    }
   ],
   "source": [
    "X = laplace(x, t, s)\n",
    "X[0]"
   ]
  },
  {
   "cell_type": "markdown",
   "metadata": {},
   "source": [
    "## Also not the same as the book\n",
    "Er is een * (se^s - 0.5 s -0.5) te veel?\n",
    "![](a2.png)\n",
    "![](e3.png)\n"
   ]
  },
  {
   "cell_type": "code",
   "execution_count": 62,
   "metadata": {},
   "outputs": [],
   "source": [
    "s, t, v, V = sym.symbols(\"s t v V\")\n",
    "V= (10 * s ** 2 - 4)/(s * (s+1) * (s + 2) ** 2)"
   ]
  },
  {
   "cell_type": "code",
   "execution_count": 63,
   "metadata": {},
   "outputs": [
    {
     "data": {
      "text/latex": [
       "$\\displaystyle \\left(18 t - e^{2 t} - 6 e^{t} + 7\\right) e^{- 2 t} \\theta\\left(t\\right)$"
      ],
      "text/plain": [
       "(18*t - exp(2*t) - 6*exp(t) + 7)*exp(-2*t)*Heaviside(t)"
      ]
     },
     "execution_count": 63,
     "metadata": {},
     "output_type": "execute_result"
    }
   ],
   "source": [
    "v = ilaplace(V, s, t)\n",
    "v"
   ]
  },
  {
   "cell_type": "markdown",
   "metadata": {},
   "source": []
  },
  {
   "cell_type": "code",
   "execution_count": 64,
   "metadata": {},
   "outputs": [
    {
     "data": {
      "text/html": [
       "<div><style type='text/css' scoped='scoped'></style>\"\\left(22 t + e^{2 t} - 14 e^{t} + 13\r",
       "ight) e^{- 2 t}\"</div>"
      ],
      "text/plain": [
       "<IPython.core.display.HTML object>"
      ]
     },
     "execution_count": 64,
     "metadata": {},
     "output_type": "execute_result"
    }
   ],
   "source": []
  },
  {
   "cell_type": "code",
   "execution_count": 65,
   "metadata": {
    "scrolled": true
   },
   "outputs": [
    {
     "data": {
      "text/html": [
       "\\left(22 t + e^{2 t} - 14 e^{t} + 13\\right) e^{- 2 t}"
      ],
      "text/plain": [
       "<IPython.core.display.HTML object>"
      ]
     },
     "execution_count": 65,
     "metadata": {},
     "output_type": "execute_result"
    }
   ],
   "source": []
  }
 ],
 "metadata": {
  "kernelspec": {
   "display_name": "Python 3",
   "language": "python",
   "name": "python3"
  },
  "language_info": {
   "codemirror_mode": {
    "name": "ipython",
    "version": 3
   },
   "file_extension": ".py",
   "mimetype": "text/x-python",
   "name": "python",
   "nbconvert_exporter": "python",
   "pygments_lexer": "ipython3",
   "version": "3.7.3"
  }
 },
 "nbformat": 4,
 "nbformat_minor": 2
}
