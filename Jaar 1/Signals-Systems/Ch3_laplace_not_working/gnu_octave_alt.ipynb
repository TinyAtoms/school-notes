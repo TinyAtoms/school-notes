{
 "cells": [
  {
   "cell_type": "code",
   "execution_count": 1,
   "metadata": {},
   "outputs": [],
   "source": [
    "pkg load symbolic"
   ]
  },
  {
   "cell_type": "markdown",
   "metadata": {},
   "source": [
    "![](e1.png)"
   ]
  },
  {
   "cell_type": "code",
   "execution_count": 2,
   "metadata": {},
   "outputs": [
    {
     "name": "stdout",
     "output_type": "stream",
     "text": [
      "Symbolic pkg v2.8.0: Python communication link active, SymPy v1.4.\n",
      "x = (sym)\n",
      "\n",
      "                     -3*t\n",
      "  2*DiracDelta(t) + e    \n",
      "\n",
      "X = (sym)\n",
      "\n",
      "                          1  \n",
      "  -2*Heaviside(0) + 2 + -----\n",
      "                        s + 3\n",
      "\n"
     ]
    }
   ],
   "source": [
    "syms x t\n",
    "x = 2 * dirac(t) + exp(-3 * t)\n",
    "X = laplace(x)"
   ]
  },
  {
   "cell_type": "markdown",
   "metadata": {},
   "source": [
    "! ![](a1.png)  \n",
    "\n",
    "\n",
    "\n",
    "\n",
    "\n",
    "\n",
    "\n",
    "## Now, ex. 2  \n",
    "\n",
    "\n",
    "\n",
    "\n",
    "\n",
    "![](e2.png)\n",
    "[](matlab2.png)"
   ]
  },
  {
   "cell_type": "code",
   "execution_count": 3,
   "metadata": {},
   "outputs": [
    {
     "name": "stdout",
     "output_type": "stream",
     "text": [
      "y = (sym)\n",
      "\n",
      "                        -t\n",
      "  Heaviside(t - 1) - 2*e  \n",
      "\n",
      "Y = (sym)\n",
      "\n",
      "  /       s        \\  -s\n",
      "  \\- 2*s*e  + s + 1/*e  \n",
      "  ----------------------\n",
      "        s*(s + 1)       \n",
      "\n"
     ]
    }
   ],
   "source": [
    "y = heaviside(t-1) - 2 * exp(-1 * t)\n",
    "Y  = laplace(y)"
   ]
  },
  {
   "cell_type": "markdown",
   "metadata": {},
   "source": [
    "![](e3.png)"
   ]
  },
  {
   "cell_type": "code",
   "execution_count": null,
   "metadata": {},
   "outputs": [],
   "source": []
  },
  {
   "cell_type": "code",
   "execution_count": 4,
   "metadata": {
    "scrolled": true
   },
   "outputs": [
    {
     "name": "stdout",
     "output_type": "stream",
     "text": [
      "v = (sym)\n",
      "\n",
      "  /        2*t       t     \\  -2*t\n",
      "  \\22*t + e    - 14*e  + 13/*e    \n",
      "\n"
     ]
    }
   ],
   "source": [
    "syms s v V\n",
    "V =(10*s^2 +4)/( s*(s+1)*(s+2)^2 );\n",
    "v = ilaplace(V)"
   ]
  },
  {
   "cell_type": "markdown",
   "metadata": {},
   "source": [
    "![](a3.png)\n",
    "\n",
    " "
   ]
  },
  {
   "cell_type": "markdown",
   "metadata": {},
   "source": [
    "\n",
    "$$\\left(22 t + e^{2 t} - 14 e^{t} + 13\\right) e^{- 2 t}$$"
   ]
  },
  {
   "cell_type": "code",
   "execution_count": null,
   "metadata": {},
   "outputs": [],
   "source": []
  }
 ],
 "metadata": {
  "kernelspec": {
   "display_name": "Octave",
   "language": "octave",
   "name": "octave"
  },
  "language_info": {
   "file_extension": ".m",
   "help_links": [
    {
     "text": "GNU Octave",
     "url": "https://www.gnu.org/software/octave/support.html"
    },
    {
     "text": "Octave Kernel",
     "url": "https://github.com/Calysto/octave_kernel"
    },
    {
     "text": "MetaKernel Magics",
     "url": "https://metakernel.readthedocs.io/en/latest/source/README.html"
    }
   ],
   "mimetype": "text/x-octave",
   "name": "octave",
   "version": "5.1.0"
  }
 },
 "nbformat": 4,
 "nbformat_minor": 2
}
