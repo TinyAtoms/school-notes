{
 "cells": [
  {
   "cell_type": "code",
   "execution_count": 1,
   "metadata": {},
   "outputs": [],
   "source": [
    "from sns import * \n",
    "import sympy as sym\n",
    "from sympy import DiracDelta as dirac\n",
    "from sympy import Heaviside as stepfunction\n",
    "from sympy import laplace_transform as laplace\n",
    "from sympy import inverse_laplace_transform as ilaplace"
   ]
  },
  {
   "cell_type": "markdown",
   "metadata": {},
   "source": [
    "# My custom functions can't be used here, they were written/modified with vectors/arrays in mind, not symbolic computing. Use sympy functs instead of numpy functs.\n",
    "## stepfunction documentation : \n",
    "https://docs.sympy.org/latest/modules/functions/special.html#heaviside\n",
    "## dirac function documentation:\n",
    "https://docs.sympy.org/latest/modules/functions/special.html#diracdelta\n",
    "## laplace documentation:\n",
    "https://docs.sympy.org/latest/modules/integrals/integrals.html#sympy.integrals.transforms.laplace_transform\n",
    "![](e1.png)\n",
    "\n",
    "Good to know tips:\n",
    "1. sympy.oo is infinity\n",
    "2. dirac function is slightly different from matlab's. undefined instead of infinity at t=0"
   ]
  },
  {
   "cell_type": "code",
   "execution_count": 2,
   "metadata": {},
   "outputs": [
    {
     "data": {
      "text/latex": [
       "$\\displaystyle - 2 \\theta\\left(0\\right) + 2 + \\frac{1}{s + 3}$"
      ],
      "text/plain": [
       "-2*Heaviside(0) + 2 + 1/(s + 3)"
      ]
     },
     "execution_count": 2,
     "metadata": {},
     "output_type": "execute_result"
    }
   ],
   "source": [
    "x, t, s = sym.symbols(\"x, t, s\")\n",
    "x = 2 * dirac(t)  + sym.exp(-3 * t)\n",
    "X = laplace(x, t, s)\n",
    "X[0]"
   ]
  },
  {
   "cell_type": "markdown",
   "metadata": {},
   "source": [
    "![](a1.png)\n",
    "## I've plotted these, and they look virtually the same. Which  makes sense. unit step at 0 = 0"
   ]
  },
  {
   "cell_type": "markdown",
   "metadata": {},
   "source": [
    "# now, example 2\n",
    "![](e2.png)"
   ]
  },
  {
   "cell_type": "code",
   "execution_count": 3,
   "metadata": {},
   "outputs": [
    {
     "data": {
      "text/latex": [
       "$\\displaystyle \\frac{\\left(- 2 s e^{s} + s + 1\\right) e^{- s}}{s \\left(s + 1\\right)}$"
      ],
      "text/plain": [
       "(-2*s*exp(s) + s + 1)*exp(-s)/(s*(s + 1))"
      ]
     },
     "execution_count": 3,
     "metadata": {},
     "output_type": "execute_result"
    }
   ],
   "source": [
    "x, t, s = sym.symbols(\"x, t, s\")\n",
    "x = stepfunction(t - 1) - 2 * sym.exp(-t)\n",
    "X = laplace(x, t, s)\n",
    "X[0]"
   ]
  },
  {
   "cell_type": "markdown",
   "metadata": {},
   "source": [
    "## different from book, but plotting it gives me about the same result\n",
    "![](a2.png)\n",
    "![](e3.png)\n"
   ]
  },
  {
   "cell_type": "code",
   "execution_count": 4,
   "metadata": {},
   "outputs": [
    {
     "data": {
      "text/latex": [
       "$\\displaystyle \\left(22 t + e^{2 t} - 14 e^{t} + 13\\right) e^{- 2 t} \\theta\\left(t\\right)$"
      ],
      "text/plain": [
       "(22*t + exp(2*t) - 14*exp(t) + 13)*exp(-2*t)*Heaviside(t)"
      ]
     },
     "execution_count": 4,
     "metadata": {},
     "output_type": "execute_result"
    }
   ],
   "source": [
    "s, t, v, V = sym.symbols(\"s t v V\")\n",
    "V= (10*s**2 +4)/( s*(s+1)*(s+2)**2)\n",
    "v = ilaplace(V, s, t)\n",
    "v "
   ]
  },
  {
   "cell_type": "code",
   "execution_count": null,
   "metadata": {},
   "outputs": [],
   "source": []
  },
  {
   "cell_type": "markdown",
   "metadata": {},
   "source": []
  },
  {
   "cell_type": "code",
   "execution_count": null,
   "metadata": {},
   "outputs": [],
   "source": []
  },
  {
   "cell_type": "code",
   "execution_count": null,
   "metadata": {
    "scrolled": true
   },
   "outputs": [],
   "source": []
  }
 ],
 "metadata": {
  "kernelspec": {
   "display_name": "Python 3",
   "language": "python",
   "name": "python3"
  },
  "language_info": {
   "codemirror_mode": {
    "name": "ipython",
    "version": 3
   },
   "file_extension": ".py",
   "mimetype": "text/x-python",
   "name": "python",
   "nbconvert_exporter": "python",
   "pygments_lexer": "ipython3",
   "version": "3.7.3"
  }
 },
 "nbformat": 4,
 "nbformat_minor": 2
}
