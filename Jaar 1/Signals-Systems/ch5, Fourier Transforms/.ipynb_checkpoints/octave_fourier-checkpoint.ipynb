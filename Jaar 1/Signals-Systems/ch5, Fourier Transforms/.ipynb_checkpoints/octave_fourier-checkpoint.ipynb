{
 "cells": [
  {
   "cell_type": "code",
   "execution_count": 1,
   "metadata": {},
   "outputs": [],
   "source": [
    "pkg load symbolic"
   ]
  },
  {
   "cell_type": "markdown",
   "metadata": {},
   "source": [
    "![](e1.png)"
   ]
  },
  {
   "cell_type": "code",
   "execution_count": 2,
   "metadata": {},
   "outputs": [
    {
     "name": "stdout",
     "output_type": "stream",
     "text": [
      "Symbolic pkg v2.8.0: Python communication link active, SymPy v1.4.\n",
      "x = (sym)\n",
      "\n",
      "      -x\n",
      "  -2*e  \n",
      "\n"
     ]
    }
   ],
   "source": [
    "syms X x w\n",
    "X = (2*j*w)/( 1 + j*w);\n",
    "x = ifourier(X)\n"
   ]
  },
  {
   "cell_type": "markdown",
   "metadata": {},
   "source": [
    "$$ x = - 2 e^{- x} \n",
    "$$\n",
    "\n",
    "does not match book\n",
    "![](ae1.png)\n",
    "# Check in actual matlab to see if it differs, onto the next one\n",
    "![](e2.png)\n"
   ]
  },
  {
   "cell_type": "code",
   "execution_count": 3,
   "metadata": {
    "scrolled": true
   },
   "outputs": [
    {
     "name": "stdout",
     "output_type": "stream",
     "text": [
      "x = (sym)\n",
      "\n",
      "                      -2*t             \n",
      "  Heaviside(t - 2) - e    *Heaviside(t)\n",
      "\n",
      "X = (sym)\n",
      "\n",
      "                 -2*I*w\n",
      "       1      I*e      \n",
      "  - ------- - ---------\n",
      "    I*w + 2       w    \n",
      "\n",
      "- \\frac{1}{i w + 2} - \\frac{i e^{- 2 i w}}{w}\n"
     ]
    }
   ],
   "source": [
    "syms x t\n",
    "x=heaviside(t-2)-exp(-2*t)*heaviside(t) %define the signal\n",
    "X = fourier(x)\n",
    "latex(X)"
   ]
  },
  {
   "cell_type": "markdown",
   "metadata": {},
   "source": [
    "\n",
    "$$- \\frac{1}{i w + 2} - \\frac{i e^{- 2 i w}}{w}$$\n",
    "# Also not mathcing the book:\n",
    "![](ae2.png)"
   ]
  },
  {
   "cell_type": "code",
   "execution_count": null,
   "metadata": {},
   "outputs": [],
   "source": []
  }
 ],
 "metadata": {
  "kernelspec": {
   "display_name": "Octave",
   "language": "octave",
   "name": "octave"
  },
  "language_info": {
   "file_extension": ".m",
   "help_links": [
    {
     "text": "GNU Octave",
     "url": "https://www.gnu.org/software/octave/support.html"
    },
    {
     "text": "Octave Kernel",
     "url": "https://github.com/Calysto/octave_kernel"
    },
    {
     "text": "MetaKernel Magics",
     "url": "https://metakernel.readthedocs.io/en/latest/source/README.html"
    }
   ],
   "mimetype": "text/x-octave",
   "name": "octave",
   "version": "5.1.0"
  }
 },
 "nbformat": 4,
 "nbformat_minor": 2
}
