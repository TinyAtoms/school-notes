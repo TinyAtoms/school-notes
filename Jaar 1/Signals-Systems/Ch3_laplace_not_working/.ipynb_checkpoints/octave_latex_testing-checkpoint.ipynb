{
 "cells": [
  {
   "cell_type": "code",
   "execution_count": 1,
   "metadata": {},
   "outputs": [],
   "source": [
    "pkg load symbolic\n",
    "\n",
    "% latex(somevar) seems to be located in symbolic, so check source. not 100% sure\n",
    "% check where packages install\n",
    "% C:\\Users\\MassiveAtoms\\Downloads\\Compressed\\symbolic-2.8.0.tar\\symbolic-2.8.0\\inst\\@sym/latex.m\n",
    "% Look into IPython.core.display.HTML and IPython.display.Display, and into octave_kernel\n",
    "%octave_kernel kernel.py located at C:\\Users\\MassiveAtoms\\ANACONDA3\\Lib\\site-packages\\octave_kernel\n",
    "% the 'magic' where the HTML should be used  instead of display\n",
    "%happens somewhere between octave_kernel.print and metakernel.processmetakernel.print or\n",
    "% between metakernel.processmetakernel and metakernel.metakernel\n"
   ]
  },
  {
   "cell_type": "markdown",
   "metadata": {},
   "source": []
  },
  {
   "cell_type": "code",
   "execution_count": 12,
   "metadata": {},
   "outputs": [
    {
     "name": "stdout",
     "output_type": "stream",
     "text": [
      "x = (sym)\n",
      "\n",
      "                     -3*t\n",
      "  2*DiracDelta(t) + e    \n",
      "\n",
      "X = (sym)\n",
      "\n",
      "                          1  \n",
      "  -2*Heaviside(0) + 2 + -----\n",
      "                        s + 3\n",
      "\n",
      "a = <div>\\(- 2 \\theta\\left(0\\right) + 2 + \\frac{1}{s + 3}\\)<div>\n",
      "<div>\\(- 2 \\theta\\left(0\\right) + 2 + \\frac{1}{s + 3}\\)<div>\n"
     ]
    }
   ],
   "source": [
    "syms x t\n",
    "x = 2 * dirac(t) + exp(-3 * t)\n",
    "X = laplace(x)\n",
    "latex(X)"
   ]
  },
  {
   "cell_type": "markdown",
   "metadata": {},
   "source": []
  },
  {
   "cell_type": "code",
   "execution_count": 3,
   "metadata": {},
   "outputs": [
    {
     "name": "stdout",
     "output_type": "stream",
     "text": [
      "y = (sym)\n",
      "\n",
      "                         -t\n",
      "  DiracDelta(t - 1) - 2*e  \n",
      "\n",
      "Y = (sym)\n",
      "\n",
      "   -s     2  \n",
      "  e   - -----\n",
      "        s + 1\n",
      "\n",
      "a = e^{- s} - \\frac{2}{s + 1}\n"
     ]
    }
   ],
   "source": [
    "y = dirac(t-1) - 2 * exp(-1 * t)\n",
    "Y  = laplace(y)\n",
    "a = latex(Y)"
   ]
  },
  {
   "cell_type": "markdown",
   "metadata": {},
   "source": []
  },
  {
   "cell_type": "code",
   "execution_count": 4,
   "metadata": {
    "scrolled": true
   },
   "outputs": [
    {
     "name": "stdout",
     "output_type": "stream",
     "text": [
      "v = (sym)\n",
      "\n",
      "  /        2*t       t     \\  -2*t\n",
      "  \\22*t + e    - 14*e  + 13/*e    \n",
      "\n",
      "a = <div>\\(\\left(22 t + e^{2 t} - 14 e^{t} + 13\\right) e^{- 2 t}\\)<div>\n",
      "<div>\\(\\left(22 t + e^{2 t} - 14 e^{t} + 13\\right) e^{- 2 t}\\)<div>\n"
     ]
    }
   ],
   "source": [
    "syms s v V\n",
    "V =(10*s^2 +4)/( s*(s+1)*(s+2)^2 );\n",
    "v = ilaplace(V)\n",
    "latex(v)"
   ]
  },
  {
   "cell_type": "markdown",
   "metadata": {},
   "source": []
  },
  {
   "cell_type": "markdown",
   "metadata": {},
   "source": [
    "\n",
    "$$\\left(22 t + e^{2 t} - 14 e^{t} + 13\\right) e^{- 2 t}$$"
   ]
  },
  {
   "cell_type": "code",
   "execution_count": 5,
   "metadata": {},
   "outputs": [
    {
     "name": "stdout",
     "output_type": "stream",
     "text": [
      "test = Mul(Add(Mul(Integer(22), Symbol('t', positive=True)), exp(Mul(Integer(2), Symbol('t', positive=True))), Mul(Integer(-1), Integer(14), exp(Symbol('t', positive=True))), Integer(13)), exp(Mul(Integer(-1), Integer(2), Symbol('t', positive=True))))\n"
     ]
    }
   ],
   "source": [
    "test = sympy(v)"
   ]
  },
  {
   "cell_type": "code",
   "execution_count": 6,
   "metadata": {},
   "outputs": [
    {
     "name": "stdout",
     "output_type": "stream",
     "text": [
      "<class 'IPython.core.display.HTML'>\n"
     ]
    }
   ],
   "source": [
    "%%python\n",
    "from IPython.core.display import display, HTML, display_html\n",
    "\n",
    "def latex(expression):\n",
    "    start = r\"<div>\\(\"\n",
    "    end = r\"\\)</div>\"\n",
    "    formatted = start + expression + end\n",
    "    return HTML(formatted)\n",
    "\n",
    "def latex2(expression):\n",
    "    start = r\"<div>\\(\"\n",
    "    end = r\"\\)</div>\"\n",
    "    formatted = start + expression + end\n",
    "    return display_html(formatted)\n",
    "print(HTML)"
   ]
  },
  {
   "cell_type": "code",
   "execution_count": 7,
   "metadata": {},
   "outputs": [
    {
     "data": {
      "text/html": [
       "<div>\\(- 2\\theta \\left(0\\right) + 2 + \\frac{1}{s+3}\\)</div>"
      ],
      "text/plain": [
       "<IPython.core.display.HTML object>"
      ]
     },
     "execution_count": 7,
     "metadata": {},
     "output_type": "execute_result"
    }
   ],
   "source": [
    "%python latex(r\"- 2\\theta \\left(0\\right) + 2 + \\frac{1}{s+3}\")"
   ]
  },
  {
   "cell_type": "code",
   "execution_count": 8,
   "metadata": {},
   "outputs": [
    {
     "name": "stdout",
     "output_type": "stream",
     "text": [
      "<div>\\(- 2\\theta \\left(0\\right) + 2 + \\frac{1}{s+3}\\)</div>\n"
     ]
    }
   ],
   "source": [
    "%%python\n",
    "latex2(r\"- 2\\theta \\left(0\\right) + 2 + \\frac{1}{s+3}\")"
   ]
  },
  {
   "cell_type": "code",
   "execution_count": 9,
   "metadata": {},
   "outputs": [
    {
     "data": {
      "text/html": [
       "<div>\\(- 2\\theta \\left(0\\right) + 2 + \\frac{1}{s+3}\\)</div>"
      ],
      "text/plain": [
       "<IPython.core.display.HTML object>"
      ]
     },
     "execution_count": 9,
     "metadata": {},
     "output_type": "execute_result"
    }
   ],
   "source": [
    "%%python\n",
    "HTML('<div>\\\\(- 2\\\\theta \\\\left(0\\\\right) + 2 + \\\\frac{1}{s+3}\\\\)</div>')"
   ]
  },
  {
   "cell_type": "code",
   "execution_count": 10,
   "metadata": {},
   "outputs": [
    {
     "name": "stderr",
     "output_type": "stream",
     "text": [
      "\u001b[1;31mError in calling magic 'lsmagic' on line:\n",
      "    list index out of range\n",
      "    args: []\n",
      "    kwargs: {}\n",
      "\u001b[0m\u001b[1;31mTraceback (most recent call last):\n",
      "  File \"C:\\Users\\MassiveAtoms\\ANACONDA3\\lib\\site-packages\\metakernel\\magic.py\", line 94, in call_magic\n",
      "    func(*args, **kwargs)\n",
      "  File \"C:\\Users\\MassiveAtoms\\ANACONDA3\\lib\\site-packages\\metakernel\\magics\\lsmagic_magic.py\", line 35, in line_lsmagic\n",
      "    self.kernel.Print('\\n'.join(out))\n",
      "  File \"C:\\Users\\MassiveAtoms\\ANACONDA3\\lib\\site-packages\\octave_kernel\\kernel.py\", line 134, in Print\n",
      "    print(out[0])\n",
      "IndexError: list index out of range\n",
      "\n",
      "\u001b[0m\u001b[1;31m%lsmagic - list the current line and cell magics\n",
      "\n",
      "This line magic will list all of the available cell and line\n",
      "magics installed in the system and in your personal magic\n",
      "folder.\n",
      "\n",
      "Example:\n",
      "    %lsmagic\n",
      "\u001b[0m"
     ]
    }
   ],
   "source": [
    "%lsmagic"
   ]
  },
  {
   "cell_type": "code",
   "execution_count": 11,
   "metadata": {},
   "outputs": [],
   "source": [
    "%help %html"
   ]
  },
  {
   "cell_type": "code",
   "execution_count": null,
   "metadata": {},
   "outputs": [],
   "source": []
  },
  {
   "cell_type": "raw",
   "metadata": {},
   "source": []
  }
 ],
 "metadata": {
  "kernelspec": {
   "display_name": "Octave",
   "language": "octave",
   "name": "octave"
  },
  "language_info": {
   "file_extension": ".m",
   "help_links": [
    {
     "text": "GNU Octave",
     "url": "https://www.gnu.org/software/octave/support.html"
    },
    {
     "text": "Octave Kernel",
     "url": "https://github.com/Calysto/octave_kernel"
    },
    {
     "text": "MetaKernel Magics",
     "url": "https://metakernel.readthedocs.io/en/latest/source/README.html"
    }
   ],
   "mimetype": "text/x-octave",
   "name": "octave",
   "version": "5.1.0"
  }
 },
 "nbformat": 4,
 "nbformat_minor": 2
}
