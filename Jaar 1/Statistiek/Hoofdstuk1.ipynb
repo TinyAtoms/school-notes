{
 "cells": [
  {
   "cell_type": "code",
   "execution_count": 1,
   "metadata": {},
   "outputs": [],
   "source": [
    "import pandas as pd\n",
    "from math import *\n",
    "from pandas import Series as s\n",
    "from pandas import DataFrame as df\n",
    "import matplotlib.pyplot as plt"
   ]
  },
  {
   "cell_type": "code",
   "execution_count": null,
   "metadata": {},
   "outputs": [],
   "source": []
  },
  {
   "cell_type": "code",
   "execution_count": 2,
   "metadata": {},
   "outputs": [],
   "source": [
    "def plot_histogram(data):\n",
    "    ax = data.value_counts(sort=False).plot.bar(rot=0, color=\"b\", figsize=(8,6))\n",
    "    ax.set_xticklabels([c for c in data.cat.categories])\n",
    "    plt.show()\n",
    "\n",
    "def bin_data(data, breedte):\n",
    "    bins = [i * breedte for i in range(data.min()//breedte, data.max()//breedte + 2)]\n",
    "    binned = pd.cut(data, bins=bins, right=False)\n",
    "    return binned"
   ]
  },
  {
   "cell_type": "markdown",
   "metadata": {},
   "source": [
    "Data kan verdeeld worden in deze categorieën:\n",
    "\t1. Kwantitatieve gegevens: cijfermatige gegvens die voorkomen op een numerieke schaal\n",
    "\t\ta. Continue: alle waarden uit een bepaalde range, infinite mogelijke waarden\n",
    "\t\tb. Discrete gegevens: Integer values\n",
    "\t2. Kwalitieve gegevens: Beschrijvende gegevens die alleen worden geclassificeerd in categorieën\n",
    "\n",
    "Meetniveau:\n",
    "Deze bepaalt welke statistische methode goed kunnen worden gebruikt om de meetgegevens te karakteriseren en interpreteren. De volgende worden onderscheden:\n",
    "\t1. Kwalitatief: \n",
    "\t\ta. Nominaal: variabelen met waarden die alleen dienen om te onderscheiden. Vb(rood=1, groen = 2, blauw=3)\n",
    "\t\tb. Ordinaal: \n",
    "\t2. Kwantitatief:\n",
    "\t\ta. Interval: variabel met vaste afstanden tussen waarden, maar geen vast nulpunt(tijd, temperatuur)\n",
    "\t\tb. ratio: variabelen met vast nulpunt(massa, lengte)\n",
    "2 gebieden in statistiek: \n",
    "\t1. Beschrijvend: uit ruwe data een overzicht maken. Grafische methoden gebruiken om patronen te ontdekken\n",
    "Verklarend: gebruikt steekproefgegevens om beslissingen te kunnen nemen of schattingen te kunnen maken over een populatie!"
   ]
  },
  {
   "cell_type": "markdown",
   "metadata": {},
   "source": [
    "__Populatie__: verzameling van objecten, personen of events waarvan gegevens vastgelegd worden.\n",
    "\n",
    "__Aselecte steekproef__: een deelverzameling van de populatie die random gekozen is.\n",
    "__Statistische gevolgtrekking__ : een schatting, voorspelling of generalisatie voor een populatie, gebaseerd op data uit de steekproef\n",
    "__Betrouwbaarheidsmaat__ : een uitspraak over de mate van onzekerheid die gepaard gaat met een statistische gevolgtrekking.\n",
    "\n",
    "__Experiment:__ een handeling of proces van waarnemingen die tot 1 enkele uitkomst leidt die net met zekerheid kan worden voorspeld.\n",
    "\n",
    "__Uitkomst:__ een enkelvoudige gebeurtenis, de meest fundamentele uitkomst van een experiment\n",
    "\n",
    "__Sample space/ uitkomstenruimte:__ de verzameling van alle mogelijke uitkomsten van een experiment\n",
    "\n",
    "__Spreidingsbreedte(bereik)__: grooteste meetwaarde - kleinste meetwaarde\n",
    "__Steekproef standaardafweiking:__ gelijk aan hoeveel een typische meting van de gegevensverzameling varieerd van de gemidelde  \n",
    "__Variantie__ is gewoon $S^2$  \n",
    "standaardafweiking heet $S$ voor steekproef std en $\\sigma$ voor populatie std\n",
    "\n",
    "__abs/rel freq.__: aantal waarneminfen die in een bep. klasse voorkomen, voor rel, deel door n  \n",
    "__cum. rel. freq.__ : commulatief, tel de vorige antw op met de huidige"
   ]
  },
  {
   "cell_type": "markdown",
   "metadata": {},
   "source": [
    "## Formules  \n",
    "__Spreidingsbreedte(W)__ = max - min  \n",
    "__n = aantal waarnemingen  \n",
    "Standaardafweiking__ = \n",
    "$$S = \\sqrt{{\\frac{(\\sum_1^n x i - avg )^2 }{n-1}}}$$\n",
    "__Klassenbreedte__: $\\frac{W}{\\sqrt n}$, afgerond naar int. Lower side is inclusief, higher side is exclusive\n",
    "\n",
    "__MODUS__ -> waarde met hoogste frequentie\n",
    "__mediaan__ -> middelste waarde van gesorteerde tabel"
   ]
  },
  {
   "cell_type": "markdown",
   "metadata": {},
   "source": [
    "## Opgaven\n",
    "I. Beschouw de natuurlijke getallen van 1 t/m 100. Hieruit moet een aselecte steekproef ter grootte 2 worden getrokken, terwijl het ene getal even is en het andere oneven moet zijn. Geef 2 manieren hoe de steekproef tot stand kan komen.  \n",
    "__ANSWER__: \n",
    "1. Split de getallen in even oneven, neem uit elke groep een random getal. \n",
    "2. neem een getal, neem daarna een ander getal en als beide (on)even zijn, trek 1 af van de laatste\n",
    "\n",
    "\n",
    "II. Bij een onderzoekje naar het aantal kinderen per gezin neemt een leraar een steekproef bestaande uit de gezinnen waarvan hij kinderen in de klas heeft. Is deze wijze van steekproef nemen aselect of niet ?  \n",
    "__ANSWER__ : niet aselect, er is een methode aan verbonden en is niet random. \n",
    "\n",
    "3. Van een 80-tal auto’s is het benzineverbruik bepaald. De volgende tabel geeft het aantal kilometers dat met  benzine werd afgelegd.\n",
    "\n",
    "101 105   77   67   125   140   138   92   102   158   82   118   86\n",
    "92     72   96   132    83   107   98   107   96   115   105   78\n",
    "114   144   66   112   88   158   132   108   135   102  95    128\n",
    "118   124   140   102   148   110   158   128   126   115   104   135\n",
    "132   106   104   76   97   133   89   156   130   105   97   119\n",
    "104   109   114   126   137   69   94   107   135   150   75   81\n",
    "70   79   103   91   122   140   143   120\n",
    "\n",
    "Maak en een klasseverdeling en maak een histogram van de klasseverdeling.\n"
   ]
  },
  {
   "cell_type": "code",
   "execution_count": 3,
   "metadata": {},
   "outputs": [
    {
     "name": "stdout",
     "output_type": "stream",
     "text": [
      "[66, 77)       7\n",
      "[77, 88)       7\n",
      "[88, 99)      12\n",
      "[99, 110)     16\n",
      "[110, 121)    10\n",
      "[121, 132)     8\n",
      "[132, 143)    12\n",
      "[143, 154)     4\n",
      "[154, 165)     4\n",
      "Name: binned, dtype: int64\n"
     ]
    },
    {
     "data": {
      "image/png": "[encoded data removed]",
      "text/plain": [
       "<Figure size 576x432 with 1 Axes>"
      ]
     },
     "metadata": {
      "needs_background": "light"
     },
     "output_type": "display_data"
    }
   ],
   "source": [
    "data = df({'benzine': sorted([105, 77, 67, 125, 140, 138, 92, 102, 158, 82, 118, 86, 92, 72, 96, 132, 83, 107, 98, 107, 96, 115,\n",
    "                     105, 78, 114, 144, 66, 112, 88, 158, 132, 108, 135, 102, 95, 128, 118, 124, 140, 102, 148, 110, 158,\n",
    "                     128, 126, 115, 104, 135, 132, 106, 104, 76, 97, 133, 89, 156, 130, 105, 97, 119, 104, 109, 114, 126,\n",
    "                     137, 69, 94, 107, 135, 150, 75, 81, 70, 79, 103, 91, 122, 140, 143, 120])})\n",
    "breedte = (data[\"benzine\"].max() - data[\"benzine\"].min()) / sqrt(data[\"benzine\"].size)\n",
    "breedte = int(breedte) + 1\n",
    "\n",
    "data['binned'] = bin_data(data.benzine, breedte)\n",
    "print(data.binned.value_counts().sort_index())   \n",
    "binned = bin_data(data.benzine, breedte)  \n",
    "binned\n",
    "plot_histogram(data.binned)"
   ]
  },
  {
   "cell_type": "markdown",
   "metadata": {},
   "source": [
    "4. De tentamen-scores van 50 studenten zijn als volgt:\n",
    "46   54   72   68   85   23   16   65   62   43\n",
    "84   65   22   89   64   61   46   27   34   50\n",
    "28   45   18   17   78   75   80   51   40   83\n",
    "60   52   87   51   82   48   32   70   45   19\n",
    "72   88   89   57   47   50   73   38   60   53\n",
    "\n",
    "Maak een klasseverdeling en bereken ook de relatieve frequenties.\n",
    "Maak een histogram van de cumulatieve relatieve frequentie.\n"
   ]
  },
  {
   "cell_type": "code",
   "execution_count": 4,
   "metadata": {},
   "outputs": [
    {
     "data": {
      "image/png": "[encoded data removed]",
      "text/plain": [
       "<Figure size 576x432 with 1 Axes>"
      ]
     },
     "metadata": {
      "needs_background": "light"
     },
     "output_type": "display_data"
    }
   ],
   "source": [
    "score = s(sorted([46, 54, 72, 68, 85, 23, 16, 65, 62, 43, 84, 65, 22, 89, 64, 61, 46, 27, 34, 50, 28, 45, 18, 17, 78, 75, 80, 51,\n",
    "           40, 83, 60, 52, 87, 51, 82, 48, 32, 70, 45, 19, 72, 88, 89, 57, 47, 50, 73, 38, 60, 53, ]))\n",
    "breedte = (score.max() - score.min())/ sqrt(score.size)\n",
    "breedte = int(breedte) + 1\n",
    "binned = bin_data(score, breedte)\n",
    "binned.value_counts().sort_index()\n",
    "plot_histogram(binned)\n",
    "# too lazy to figure out how to do it cumulatively\n"
   ]
  },
  {
   "cell_type": "markdown",
   "metadata": {},
   "source": [
    "5. Op 50 lagere scholen heeft men aselect één der 6e klassen gekozen en het aantal leerlingen geteld. De resultaten zijn als volgt.\n",
    "\n",
    "\n",
    "aantal leerlingen\t20\t21\t22\t23\t24\t25\t26\t27\t28\t29\t30  \n",
    "frequentie\t2\t2\t4\t4\t5\t5\t6\t6\t7\t6\t3\n",
    "\n",
    "a. Wat is de modale waarde van het aantal leerlingen per klas ?\n",
    "b. Maak een cumulatieve frequentietabel en bepaal hieruit de mediane waarde.\n",
    "c. Bereken het gemiddelde en de standaardafwijking van het aantal leerlingen per klas.\n"
   ]
  },
  {
   "cell_type": "code",
   "execution_count": 5,
   "metadata": {},
   "outputs": [
    {
     "data": {
      "text/plain": [
       "count    50.000000\n",
       "mean     25.700000\n",
       "std       2.779297\n",
       "min      20.000000\n",
       "25%      24.000000\n",
       "50%      26.000000\n",
       "75%      28.000000\n",
       "max      30.000000\n",
       "dtype: float64"
      ]
     },
     "execution_count": 5,
     "metadata": {},
     "output_type": "execute_result"
    }
   ],
   "source": [
    "n = [20, 21, 22, 23, 24, 25, 26, 27, 28, 29, 30]\n",
    "freq = [2, 2, 4, 4, 5, 5, 6, 6, 7, 6, 3]\n",
    "newlist = []\n",
    "for pos, f in enumerate(freq):\n",
    "    for i in range(f):\n",
    "        newlist.append(n[pos])\n",
    "nstud = s(newlist)\n",
    "nstud.describe()"
   ]
  },
  {
   "cell_type": "code",
   "execution_count": 6,
   "metadata": {},
   "outputs": [
    {
     "data": {
      "text/plain": [
       "2.779296636906245"
      ]
     },
     "execution_count": 6,
     "metadata": {},
     "output_type": "execute_result"
    }
   ],
   "source": [
    "std = sqrt( sum((nstud - nstud.mean())**2) / (nstud.size - 1))\n",
    "std"
   ]
  },
  {
   "cell_type": "markdown",
   "metadata": {},
   "source": [
    "6. Van 224 stukken geplastificeerd koperdraad is de dikte van de plastic omhulling gemeten. De frequentieverdeling van de resultaten is :\n",
    "\n",
    "dikte\tfrequentie\tdikte\tfrequentie\tdikte\tfrequentie\n",
    "146\t3\t151\t33\t156\t11  \n",
    "147\t3\t152\t34\t157\t9  \n",
    "148\t7\t153\t37\t158\t2  \n",
    "149\t11\t154\t25\t159\t0  \n",
    "150\t25\t155\t23\t160\t1  \n",
    "\n",
    "Bereken het gemiddelde en de standaardafwijking.\n",
    "b. Bepaal de mediane waarde van de dikte.\n"
   ]
  },
  {
   "cell_type": "code",
   "execution_count": 7,
   "metadata": {},
   "outputs": [
    {
     "name": "stdout",
     "output_type": "stream",
     "text": [
      "1.9554455590377737\n"
     ]
    },
    {
     "data": {
      "text/plain": [
       "count    177.000000\n",
       "mean     151.728814\n",
       "std        1.955446\n",
       "min      147.000000\n",
       "25%      150.000000\n",
       "50%      152.000000\n",
       "75%      153.000000\n",
       "max      158.000000\n",
       "dtype: float64"
      ]
     },
     "execution_count": 7,
     "metadata": {},
     "output_type": "execute_result"
    }
   ],
   "source": [
    "dikte = list(range(147, 161))\n",
    "freq = [3, 7, 11, 25, 34, 37, 25, 23, 9, 2, 0, 1]\n",
    "newlist = []\n",
    "for pos, f in enumerate(freq):\n",
    "    for i in range(f):\n",
    "        newlist.append(dikte[pos])\n",
    "diktes = s(newlist)\n",
    "std = sqrt( sum((diktes - diktes.mean())**2) / (diktes.size - 1))\n",
    "print(std)\n",
    "diktes.describe()\n"
   ]
  },
  {
   "cell_type": "code",
   "execution_count": null,
   "metadata": {},
   "outputs": [],
   "source": []
  }
 ],
 "metadata": {
  "kernelspec": {
   "display_name": "Python 3",
   "language": "python",
   "name": "python3"
  },
  "language_info": {
   "codemirror_mode": {
    "name": "ipython",
    "version": 3
   },
   "file_extension": ".py",
   "mimetype": "text/x-python",
   "name": "python",
   "nbconvert_exporter": "python",
   "pygments_lexer": "ipython3",
   "version": "3.7.3"
  },
  "toc": {
   "base_numbering": 1,
   "nav_menu": {},
   "number_sections": true,
   "sideBar": true,
   "skip_h1_title": false,
   "title_cell": "Table of Contents",
   "title_sidebar": "Contents",
   "toc_cell": false,
   "toc_position": {},
   "toc_section_display": true,
   "toc_window_display": false
  }
 },
 "nbformat": 4,
 "nbformat_minor": 2
}
