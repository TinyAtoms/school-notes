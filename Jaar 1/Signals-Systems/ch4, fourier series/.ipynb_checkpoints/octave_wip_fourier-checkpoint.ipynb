{
 "cells": [
  {
   "cell_type": "code",
   "execution_count": 7,
   "metadata": {},
   "outputs": [
    {
     "name": "stdout",
     "output_type": "stream",
     "text": [
      "error: __plt2vm__: matrix dimensions must match\n",
      "error: called from\n",
      "    __plt__>__plt2vm__ at line 412 column 5\n",
      "    __plt__>__plt2__ at line 244 column 14\n",
      "    __plt__ at line 107 column 18\n",
      "    plot at line 223 column 10\n",
      "error: print: directory C:\\Users\\MASSIV~1\\AppData\\Local\\Temp\\tmp6q0hewgn does not exist\n",
      "error: called from\n",
      "    _make_figures>safe_print at line 125 column 7\n",
      "    _make_figures at line 49 column 13\n"
     ]
    }
   ],
   "source": [
    "t = 0:0.1:10;\n",
    "N = 50;\n",
    "\n",
    "T = 5;\n",
    "w= (2 * pi)/T;\n",
    "result = zeros(1, 101);\n",
    "for n=1:N\n",
    "    an = (sin(n*w)*4)/ (n * w);\n",
    "    bn = (1-cos(n*w)*4)/(n*w);\n",
    "    fill = n.*w.*t;\n",
    "     result = result + cos(fill) .* an + sin(fill) .* an;\n",
    "end\n",
    "result = result + 2;\n",
    "plot(t, result)"
   ]
  },
  {
   "cell_type": "code",
   "execution_count": null,
   "metadata": {},
   "outputs": [],
   "source": []
  }
 ],
 "metadata": {
  "kernelspec": {
   "display_name": "Octave",
   "language": "octave",
   "name": "octave"
  },
  "language_info": {
   "file_extension": ".m",
   "help_links": [
    {
     "text": "GNU Octave",
     "url": "https://www.gnu.org/software/octave/support.html"
    },
    {
     "text": "Octave Kernel",
     "url": "https://github.com/Calysto/octave_kernel"
    },
    {
     "text": "MetaKernel Magics",
     "url": "https://metakernel.readthedocs.io/en/latest/source/README.html"
    }
   ],
   "mimetype": "text/x-octave",
   "name": "octave",
   "version": "5.1.0"
  }
 },
 "nbformat": 4,
 "nbformat_minor": 2
}
