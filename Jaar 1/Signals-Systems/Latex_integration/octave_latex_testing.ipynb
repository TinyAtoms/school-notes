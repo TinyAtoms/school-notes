{
 "cells": [
  {
   "cell_type": "code",
   "execution_count": 1,
   "metadata": {},
   "outputs": [],
   "source": [
    "pkg load symbolic\n",
    "\n",
    "%{\n",
    "latex(somevar) seems to be located in symbolic, so check source. not 100% sure\n",
    "check where packages install\n",
    "C:\\Users\\MassiveAtoms\\Downloads\\Compressed\\symbolic-2.8.0.tar\\symbolic-2.8.0\\inst\\@sym/latex.m\n",
    "Look into IPython.core.display.HTML and IPython.display.Display, and into octave_kernel\n",
    "octave_kernel kernel.py located at C:\\Users\\MassiveAtoms\\ANACONDA3\\Lib\\site-packages\\octave_kernel\n",
    "the 'magic' where the HTML should be used  instead of display\n",
    "happens somewhere between octave_kernel.print and metakernel.processmetakernel.print or\n",
    "between metakernel.processmetakernel and metakernel.metakernel\n",
    "%}"
   ]
  },
  {
   "cell_type": "markdown",
   "metadata": {},
   "source": []
  },
  {
   "cell_type": "code",
   "execution_count": 2,
   "metadata": {},
   "outputs": [
    {
     "name": "stdout",
     "output_type": "stream",
     "text": [
      "Symbolic pkg v2.8.0: Python communication link active, SymPy v1.4.\n",
      "x = (sym)\n",
      "\n",
      "                     -3*t\n",
      "  2*DiracDelta(t) + e    \n",
      "\n",
      "X = (sym)\n",
      "\n",
      "                          1  \n",
      "  -2*Heaviside(0) + 2 + -----\n",
      "                        s + 3\n",
      "\n",
      "a = <div>\\(- 2 \\theta\\left(0\\right) + 2 + \\frac{1}{s + 3}\\)<div>\n",
      "- 2 \\theta\\left(0\\right) + 2 + \\frac{1}{s + 3}\n"
     ]
    }
   ],
   "source": [
    "syms x t\n",
    "x = 2 * dirac(t) + exp(-3 * t)\n",
    "X = laplace(x)\n",
    "latex(X)"
   ]
  },
  {
   "cell_type": "markdown",
   "metadata": {},
   "source": []
  },
  {
   "cell_type": "code",
   "execution_count": 3,
   "metadata": {},
   "outputs": [
    {
     "name": "stdout",
     "output_type": "stream",
     "text": [
      "y = (sym)\n",
      "\n",
      "                         -t\n",
      "  DiracDelta(t - 1) - 2*e  \n",
      "\n",
      "Y = (sym)\n",
      "\n",
      "   -s     2  \n",
      "  e   - -----\n",
      "        s + 1\n",
      "\n",
      "b = e^{- s} - \\frac{2}{s + 1}\n"
     ]
    }
   ],
   "source": [
    "y = dirac(t-1) - 2 * exp(-1 * t)\n",
    "Y  = laplace(y)\n",
    "b = latex(Y)"
   ]
  },
  {
   "cell_type": "markdown",
   "metadata": {},
   "source": []
  },
  {
   "cell_type": "code",
   "execution_count": 4,
   "metadata": {
    "scrolled": true
   },
   "outputs": [
    {
     "name": "stdout",
     "output_type": "stream",
     "text": [
      "v = (sym)\n",
      "\n",
      "  /        2*t       t     \\  -2*t\n",
      "  \\22*t + e    - 14*e  + 13/*e    \n",
      "\n",
      "a = <div>\\(\\left(22 t + e^{2 t} - 14 e^{t} + 13\\right) e^{- 2 t}\\)<div>\n",
      "\\left(22 t + e^{2 t} - 14 e^{t} + 13\\right) e^{- 2 t}\n"
     ]
    }
   ],
   "source": [
    "syms s v V\n",
    "V =(10*s^2 +4)/( s*(s+1)*(s+2)^2 );\n",
    "v = ilaplace(V)\n",
    "latex(v)"
   ]
  },
  {
   "cell_type": "markdown",
   "metadata": {},
   "source": []
  },
  {
   "cell_type": "markdown",
   "metadata": {},
   "source": [
    "\n",
    "$$\\left(22 t + e^{2 t} - 14 e^{t} + 13\\right) e^{- 2 t}$$"
   ]
  },
  {
   "cell_type": "code",
   "execution_count": 5,
   "metadata": {},
   "outputs": [
    {
     "name": "stdout",
     "output_type": "stream",
     "text": [
      "test = Mul(Add(Mul(Integer(22), Symbol('t', positive=True)), exp(Mul(Integer(2), Symbol('t', positive=True))), Mul(Integer(-1), Integer(14), exp(Symbol('t', positive=True))), Integer(13)), exp(Mul(Integer(-1), Integer(2), Symbol('t', positive=True))))\n"
     ]
    }
   ],
   "source": [
    "test = sympy(v)"
   ]
  },
  {
   "cell_type": "code",
   "execution_count": 6,
   "metadata": {},
   "outputs": [
    {
     "name": "stdout",
     "output_type": "stream",
     "text": [
      "<class 'IPython.core.display.HTML'>\n"
     ]
    }
   ],
   "source": [
    "%%python\n",
    "from IPython.core.display import display, HTML, display_html\n",
    "\n",
    "def latex(expression):\n",
    "    start = r\"<div>\\(\"\n",
    "    end = r\"\\)</div>\"\n",
    "    formatted = start + expression + end\n",
    "    return HTML(formatted)\n",
    "\n",
    "def latex2(expression):\n",
    "    start = r\"<div>\\(\"\n",
    "    end = r\"\\)</div>\"\n",
    "    formatted = start + expression + end\n",
    "    return display_html(formatted)\n",
    "print(HTML)"
   ]
  },
  {
   "cell_type": "code",
   "execution_count": 20,
   "metadata": {},
   "outputs": [
    {
     "ename": "TypeError",
     "evalue": "(\"bad operand type for unary -: 'HTML'\",)",
     "output_type": "error",
     "traceback": [
      "Traceback (most recent call last):",
      "  File \"python cell\", line 1, in <module>",
      "TypeError: bad operand type for unary -: 'HTML'"
     ]
    }
   ],
   "source": [
    "%python latex(r\" - 2\\theta \\left(0\\right) + 2 + \\frac{1}{s+3}\")"
   ]
  },
  {
   "cell_type": "code",
   "execution_count": 8,
   "metadata": {},
   "outputs": [
    {
     "name": "stdout",
     "output_type": "stream",
     "text": [
      "<div>\\(- 2\\theta \\left(0\\right) + 2 + \\frac{1}{s+3}\\)</div>\n"
     ]
    }
   ],
   "source": [
    "%%python\n",
    "latex2(r\"- 2\\theta \\left(0\\right) + 2 + \\frac{1}{s+3}\")"
   ]
  },
  {
   "cell_type": "code",
   "execution_count": 9,
   "metadata": {},
   "outputs": [
    {
     "data": {
      "text/html": [
       "<div>\\(- 2\\theta \\left(0\\right) + 2 + \\frac{1}{s+3}\\)</div>"
      ],
      "text/plain": [
       "<IPython.core.display.HTML object>"
      ]
     },
     "execution_count": 9,
     "metadata": {},
     "output_type": "execute_result"
    }
   ],
   "source": [
    "%%python\n",
    "HTML('<div>\\\\(- 2\\\\theta \\\\left(0\\\\right) + 2 + \\\\frac{1}{s+3}\\\\)</div>')"
   ]
  },
  {
   "cell_type": "markdown",
   "metadata": {},
   "source": [
    "%%latex\n",
    "\n",
    "(- 2\\theta \\left(0\\right) + 2 + \\frac{1}{s+3}\\)"
   ]
  },
  {
   "cell_type": "code",
   "execution_count": 10,
   "metadata": {},
   "outputs": [
    {
     "name": "stdout",
     "output_type": "stream",
     "text": [
      "Available line magics:\n",
      "%activity  %cd  %connect_info  %conversation  %dot  %download  %edit  %get  %help  %html  %include  %install  %install_magic  %javascript  %jigsaw  %kernel  %kx  %latex  %load  %ls  %lsmagic  %macro  %magic  %matplotlib  %parallel  %plot  %pmap  %px  %python  %reload_magics  %restart  %run  %scheme  %set  %shell\n",
      "\n",
      "Available cell magics:\n",
      "%%activity  %%brain  %%conversation  %%debug  %%dot  %%file  %%help  %%html  %%javascript  %%kx  %%latex  %%macro  %%pipe  %%processing  %%px  %%python  %%scheme  %%shell  %%show  %%time  %%tutor\n"
     ]
    }
   ],
   "source": [
    "%lsmagic"
   ]
  },
  {
   "cell_type": "code",
   "execution_count": 11,
   "metadata": {},
   "outputs": [],
   "source": [
    "%config"
   ]
  },
  {
   "cell_type": "raw",
   "metadata": {},
   "source": []
  }
 ],
 "metadata": {
  "kernelspec": {
   "display_name": "Octave",
   "language": "octave",
   "name": "octave"
  },
  "language_info": {
   "file_extension": ".m",
   "help_links": [
    {
     "text": "GNU Octave",
     "url": "https://www.gnu.org/software/octave/support.html"
    },
    {
     "text": "Octave Kernel",
     "url": "https://github.com/Calysto/octave_kernel"
    },
    {
     "text": "MetaKernel Magics",
     "url": "https://metakernel.readthedocs.io/en/latest/source/README.html"
    }
   ],
   "mimetype": "text/x-octave",
   "name": "octave",
   "version": "5.1.0"
  }
 },
 "nbformat": 4,
 "nbformat_minor": 2
}
