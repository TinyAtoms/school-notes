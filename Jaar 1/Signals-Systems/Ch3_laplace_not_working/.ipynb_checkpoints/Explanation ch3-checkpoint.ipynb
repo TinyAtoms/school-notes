{
 "cells": [
  {
   "cell_type": "markdown",
   "metadata": {},
   "source": [
    "\n",
    "$\\newcommand{\\L}{\\mathscr{L}} \n",
    "\\newcommand{\\abs}[1]{\\lvert #1 \\rvert}\n",
    "\\newcommand{\\L}[1]{\\mathscr{L} [ #1 ] } \n",
    "$\n",
    "\n",
    "# Hoofdstuk 3, Laplace transforms\n",
    "It's shifting the function from a time domain to a freq domain\n",
    "\n",
    "$$\\L{X(s)}= \\int_{ - \\infty}^{\\infty} x(t) e^{-st} dt, where\\ s = \\sigma + jw$$\n",
    "\n",
    "Or onesided:  $$\\L {X(s)} = \\int_{0^-}^{\\infty} x(t) e^{-st} dt, where\\ s = \\sigma + jw$$\n",
    " $s = \\sigma + jw$ is the __complete frequentie__\n",
    " \n",
    " \n",
    " Then the inverse laplace = $$ {1 \\over 2 \\pi j} \\int_{\\sigma - j \\infty }^{\\sigma + j \\infty} X(s)e^{st} ds$$\n",
    " \n",
    " \n",
    " Laplace transform exists if the onesided laplace transform is smaller than infinity. This can be simplified as follows: \n",
    " $$ \\int_{0^-}^{\\infty} \\abs{x(t)} e^{-\\sigma t dt} \\lt \\infty$$, because $\\abs{e^{jwt}} = 1\\ \\forall\\ t$ \n",
    " \n",
    " \n",
    " \n",
    " \n",
    " ## Properties\n",
    " \n",
    " In general:  \n",
    " $$\\L {e^{at} u(t)} = {1 \\over s+a} \\\\\n",
    " \\L {u(t)} = {1 \\over s} \\\\\n",
    " \\L{\\delta(t)} = \\L \\delta (t) e^{-st} dt = e^0 = 1 \\ for \\ all \\ s\n",
    " $$\n",
    " \n",
    " ## More properties\n",
    " \n",
    "$$\n",
    " \\L{a_1 x_1(t) + a_2x_2(t)} = a_1 X_1(s) + a_2X_2(s) \\\\\n",
    " \\L{x(at)} = {1 \\over a} X({s \\over a}), a>0 \\\\\n",
    " \\L{x(t-a)u(t-a)}= e^{-as}X(s)\\ for\\ t > a\n",
    "$$\n",
    " \n",
    " "
   ]
  },
  {
   "cell_type": "markdown",
   "metadata": {},
   "source": [
    "# Fourier series  \n",
    "Each __periodic__ function can be written as an infinite series of sinusoids. \n",
    "$x(t) = a_0 + a_1 cos(\\omega_0t) + b_1 sin(\\omega_0t) + a_2 cos(\\omega_0t) + b_2 sin(\\omega_0t) + \\dots $\n",
    "\n",
    "Or more susinctly: \n",
    "\n",
    "$$\n",
    "x(t) = {a_0 \\ dc + \\sum^\\infty_{a=1} {a_n cos(\\omega_0t) + b_n sin(\\omega_0t) }}\n",
    "$$\n",
    "\n",
    "To calculate the stuff needed to transform a function to a fourier series, the following is needed:\n",
    "\n",
    "$$  \n",
    "\\omega_0 = {2 \\pi \\over T} \\\\\n",
    "a_0 = {1 \\over T} \\int^T_0 {x(t)dt}\\\\\n",
    "a_n = {2\\over T} \\int^T_0 x(t) cos(n \\omega_0 t) dt \\\\\n",
    "b_n = {2\\over T} \\int^T_0 x(t) sin(n \\omega_0 t) dt \\\\\n",
    "$$"
   ]
  },
  {
   "cell_type": "code",
   "execution_count": null,
   "metadata": {},
   "outputs": [],
   "source": []
  }
 ],
 "metadata": {
  "kernelspec": {
   "display_name": "Python 3",
   "language": "python",
   "name": "python3"
  },
  "language_info": {
   "codemirror_mode": {
    "name": "ipython",
    "version": 3
   },
   "file_extension": ".py",
   "mimetype": "text/x-python",
   "name": "python",
   "nbconvert_exporter": "python",
   "pygments_lexer": "ipython3",
   "version": "3.7.3"
  },
  "toc": {
   "base_numbering": 1,
   "nav_menu": {},
   "number_sections": true,
   "sideBar": true,
   "skip_h1_title": false,
   "title_cell": "Table of Contents",
   "title_sidebar": "Contents",
   "toc_cell": false,
   "toc_position": {},
   "toc_section_display": true,
   "toc_window_display": false
  }
 },
 "nbformat": 4,
 "nbformat_minor": 2
}
